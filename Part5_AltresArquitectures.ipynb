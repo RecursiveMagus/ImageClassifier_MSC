{
  "nbformat": 4,
  "nbformat_minor": 0,
  "metadata": {
    "colab": {
      "provenance": []
    },
    "kernelspec": {
      "name": "python3",
      "display_name": "Python 3"
    },
    "language_info": {
      "name": "python"
    },
    "accelerator": "GPU",
    "gpuClass": "standard"
  },
  "cells": [
    {
      "cell_type": "markdown",
      "source": [
        "# **Part 5 - Altres Arquitectures**"
      ],
      "metadata": {
        "id": "7Yfn6vKE5PU0"
      }
    },
    {
      "cell_type": "markdown",
      "source": [
        "De moment hem treballat únicament amb xarxes de tipus Resnet, com ``resnet18`` o ``resnet152``. No obstant, pytorch (i, per extensió, ``fastai``) ofereix moltes altres xarxes i arquitectures prefabricades per fer transfer learning. En aquest *Notebook* veurem algunes d'elles: explicarem breument la seva història i context, estudiarem la seva arquitectura i compararem els seus resultats classificant les imatges del Dataset d'aquesta pràctica."
      ],
      "metadata": {
        "id": "qpYAnwjx5S5M"
      }
    },
    {
      "cell_type": "markdown",
      "source": [
        "### **Carregar llibreries**"
      ],
      "metadata": {
        "id": "7MPHGD-_k3qw"
      }
    },
    {
      "cell_type": "markdown",
      "source": [
        "Carreguem les llibreries i mòduls habituals que hem fet servir en els altres exemples de la pràctica:"
      ],
      "metadata": {
        "id": "a-0kM-Zrk8_F"
      }
    },
    {
      "cell_type": "code",
      "execution_count": 11,
      "metadata": {
        "id": "ML2ud6hN40il"
      },
      "outputs": [],
      "source": [
        "! [ -e /content ] && pip install -Uqq fastbook\n",
        "import fastbook\n",
        "from fastbook import *\n",
        "fastbook.setup_book()\n",
        "from fastai.callback.fp16 import *\n",
        "import torch"
      ]
    },
    {
      "cell_type": "markdown",
      "source": [
        "### **Carregar Dataset (només Colab)**"
      ],
      "metadata": {
        "id": "aw0BhJWM6-zY"
      }
    },
    {
      "cell_type": "markdown",
      "source": [
        "Si estem executant aquest Notebook des de Colab, necessitarem tenir el dataset guardat al nostre Drive en format .zip i executar la següent cel·la de codi per carregar-lo a aquesta sessió:"
      ],
      "metadata": {
        "id": "nGgnoMnE7GfC"
      }
    },
    {
      "cell_type": "code",
      "source": [
        "!unzip /content/gdrive/MyDrive/dataset_CIFAR10.zip\n",
        "path = \"/content/\""
      ],
      "metadata": {
        "id": "8scIP-DT7V2I",
        "colab": {
          "base_uri": "https://localhost:8080/"
        },
        "outputId": "4f3adedb-9621-474c-d721-f1a730614f9d"
      },
      "execution_count": 12,
      "outputs": [
        {
          "output_type": "stream",
          "name": "stdout",
          "text": [
            "Archive:  /content/gdrive/MyDrive/dataset_CIFAR10.zip\n",
            "replace train/airplane/0000.jpg? [y]es, [n]o, [A]ll, [N]one, [r]ename: N\n"
          ]
        }
      ]
    },
    {
      "cell_type": "markdown",
      "source": [
        "Altrament, **suposarem que el dataset es troba descomprimit en la mateixa carpeta des d'on estem executant aquest Notebook**."
      ],
      "metadata": {
        "id": "PQhCDJm98vFz"
      }
    },
    {
      "cell_type": "markdown",
      "source": [
        "### **DataLoader**"
      ],
      "metadata": {
        "id": "q4fVqZfEWMog"
      }
    },
    {
      "cell_type": "markdown",
      "source": [
        "Per tots els exemples d'aquest Notebook farem servir el següent DataLoader:"
      ],
      "metadata": {
        "id": "_0kMMLVtWO73"
      }
    },
    {
      "cell_type": "code",
      "source": [
        "dls = ImageDataLoaders.from_folder(\n",
        "    device = torch.device('cuda' if torch.cuda.is_available() else 'cpu'),\n",
        "    path = path,\n",
        "    train='train',\n",
        "    valid='validation',\n",
        "    seed=42,\n",
        "    batch_tfms=aug_transforms(size=64),\n",
        "    bs = 64)"
      ],
      "metadata": {
        "id": "rZznBM3aWUXS"
      },
      "execution_count": null,
      "outputs": []
    },
    {
      "cell_type": "markdown",
      "source": [
        "Noti's que hem ampliat la mida de les imatges de 32x32 a 64x64. La raó es que en moltes de les arquitectures que veurem, la dimensió de la imatge es redueix molt al propagar-se cap endavant; si usem una mida massa petita en les imatges d'input la dimensió arriba a zero en alguns casos (per exemple amb Alexnet), i ``fastai`` llança un error perquè no pot continuar propagant la imatge. <br>\n",
        "\n",
        "També hem reduït la mida del batch size a 64, perquè ens hem trobat amb alguns problemes de memòria si executavem algunes d'aquestes arquitectures a la plataforma Colab, malgrat que no hauria d'haver-hi problema si s'està executant aquest Notebook des d'un ordinador fixe de prestacions mitjanes (pels estàndars actuals)."
      ],
      "metadata": {
        "id": "CB_b5RLYWVKV"
      }
    },
    {
      "cell_type": "markdown",
      "source": [
        "\n",
        "\n",
        "---\n",
        "\n",
        "\n"
      ],
      "metadata": {
        "id": "GsjzHxKX87i5"
      }
    },
    {
      "cell_type": "markdown",
      "source": [
        "###**1. Alexnet**"
      ],
      "metadata": {
        "id": "aMa-uiqB6FwH"
      }
    },
    {
      "cell_type": "markdown",
      "source": [
        "Alexnet és una xarxa neuronal convolucional de 8 capes de profunditat entrenada per classificar imatges de 227x227 píxels del dataset Imagenet. Va ser la guanyadora del *ImageNet Large Scale Visual Recognition Competition* (*ILSVRC*) de l'any 2012, aconseguint una precisió propera al 85%. Malgrat que aquesta puntuació a dia d'avui no seria sorprenent, en aquell moment fóu una fita molt important."
      ],
      "metadata": {
        "id": "ef98ijEGBRiM"
      }
    },
    {
      "cell_type": "markdown",
      "source": [
        "<table style=\"text-align: center;\">\n",
        "<tr>\n",
        "  <td>\n",
        "   <img src=\"https://neurohive.io/wp-content/uploads/2018/10/AlexNet-1.png\"/>\n",
        "  </td>\n",
        "</tr>\n",
        "<tr>\n",
        "  <th>Topologia de la xarxa Alexnet original. Imatge extreta de <a href = https://neurohive.io/en/popular-networks/alexnet-imagenet-classification-with-deep-convolutional-neural-networks/>Neurohive</a>.</th>\n",
        "</tr>\n",
        "</table>"
      ],
      "metadata": {
        "id": "-xJE1KS28cRN"
      }
    },
    {
      "cell_type": "markdown",
      "source": [
        "Anem, doncs, a crear un objecte de tipus ``vision_learner`` que utilitzi l'arquitectura Alexnet:"
      ],
      "metadata": {
        "id": "0mu36MUpFCWt"
      }
    },
    {
      "cell_type": "code",
      "source": [
        "alex_learner = vision_learner(dls, alexnet, metrics=[accuracy, error_rate]).to_fp16()"
      ],
      "metadata": {
        "colab": {
          "base_uri": "https://localhost:8080/"
        },
        "id": "XK1UU_BP7pyN",
        "outputId": "a340b153-404d-4d35-dc4e-152b5d8f1fa0"
      },
      "execution_count": 14,
      "outputs": [
        {
          "output_type": "stream",
          "name": "stderr",
          "text": [
            "/usr/local/lib/python3.9/dist-packages/torchvision/models/_utils.py:208: UserWarning: The parameter 'pretrained' is deprecated since 0.13 and may be removed in the future, please use 'weights' instead.\n",
            "  warnings.warn(\n",
            "/usr/local/lib/python3.9/dist-packages/torchvision/models/_utils.py:223: UserWarning: Arguments other than a weight enum or `None` for 'weights' are deprecated since 0.13 and may be removed in the future. The current behavior is equivalent to passing `weights=AlexNet_Weights.IMAGENET1K_V1`. You can also use `weights=AlexNet_Weights.DEFAULT` to get the most up-to-date weights.\n",
            "  warnings.warn(msg)\n"
          ]
        }
      ]
    },
    {
      "cell_type": "markdown",
      "source": [
        "L'entrenem durant 12 èpoques, congelant les dues primeres:"
      ],
      "metadata": {
        "id": "NI78-yg5Xf5X"
      }
    },
    {
      "cell_type": "code",
      "source": [
        "alex_learner.fine_tune(10, freeze_epochs=2)"
      ],
      "metadata": {
        "id": "eoSkWlCu6q-4",
        "colab": {
          "base_uri": "https://localhost:8080/",
          "height": 583
        },
        "outputId": "f63aaaa6-7195-421c-efb9-55eab00518c9"
      },
      "execution_count": 5,
      "outputs": [
        {
          "output_type": "stream",
          "name": "stderr",
          "text": [
            "/usr/local/lib/python3.9/dist-packages/torchvision/models/_utils.py:208: UserWarning: The parameter 'pretrained' is deprecated since 0.13 and may be removed in the future, please use 'weights' instead.\n",
            "  warnings.warn(\n",
            "/usr/local/lib/python3.9/dist-packages/torchvision/models/_utils.py:223: UserWarning: Arguments other than a weight enum or `None` for 'weights' are deprecated since 0.13 and may be removed in the future. The current behavior is equivalent to passing `weights=AlexNet_Weights.IMAGENET1K_V1`. You can also use `weights=AlexNet_Weights.DEFAULT` to get the most up-to-date weights.\n",
            "  warnings.warn(msg)\n",
            "Downloading: \"https://download.pytorch.org/models/alexnet-owt-7be5be79.pth\" to /root/.cache/torch/hub/checkpoints/alexnet-owt-7be5be79.pth\n",
            "100%|██████████| 233M/233M [00:02<00:00, 114MB/s]\n"
          ]
        },
        {
          "output_type": "display_data",
          "data": {
            "text/plain": [
              "<IPython.core.display.HTML object>"
            ],
            "text/html": [
              "\n",
              "<style>\n",
              "    /* Turns off some styling */\n",
              "    progress {\n",
              "        /* gets rid of default border in Firefox and Opera. */\n",
              "        border: none;\n",
              "        /* Needs to be in here for Safari polyfill so background images work as expected. */\n",
              "        background-size: auto;\n",
              "    }\n",
              "    progress:not([value]), progress:not([value])::-webkit-progress-bar {\n",
              "        background: repeating-linear-gradient(45deg, #7e7e7e, #7e7e7e 10px, #5c5c5c 10px, #5c5c5c 20px);\n",
              "    }\n",
              "    .progress-bar-interrupted, .progress-bar-interrupted::-webkit-progress-bar {\n",
              "        background: #F44336;\n",
              "    }\n",
              "</style>\n"
            ]
          },
          "metadata": {}
        },
        {
          "output_type": "display_data",
          "data": {
            "text/plain": [
              "<IPython.core.display.HTML object>"
            ],
            "text/html": [
              "<table border=\"1\" class=\"dataframe\">\n",
              "  <thead>\n",
              "    <tr style=\"text-align: left;\">\n",
              "      <th>epoch</th>\n",
              "      <th>train_loss</th>\n",
              "      <th>valid_loss</th>\n",
              "      <th>accuracy</th>\n",
              "      <th>error_rate</th>\n",
              "      <th>time</th>\n",
              "    </tr>\n",
              "  </thead>\n",
              "  <tbody>\n",
              "    <tr>\n",
              "      <td>0</td>\n",
              "      <td>1.505041</td>\n",
              "      <td>1.090612</td>\n",
              "      <td>0.615800</td>\n",
              "      <td>0.384200</td>\n",
              "      <td>01:03</td>\n",
              "    </tr>\n",
              "    <tr>\n",
              "      <td>1</td>\n",
              "      <td>1.262683</td>\n",
              "      <td>1.062366</td>\n",
              "      <td>0.619900</td>\n",
              "      <td>0.380100</td>\n",
              "      <td>00:55</td>\n",
              "    </tr>\n",
              "  </tbody>\n",
              "</table>"
            ]
          },
          "metadata": {}
        },
        {
          "output_type": "display_data",
          "data": {
            "text/plain": [
              "<IPython.core.display.HTML object>"
            ],
            "text/html": [
              "\n",
              "<style>\n",
              "    /* Turns off some styling */\n",
              "    progress {\n",
              "        /* gets rid of default border in Firefox and Opera. */\n",
              "        border: none;\n",
              "        /* Needs to be in here for Safari polyfill so background images work as expected. */\n",
              "        background-size: auto;\n",
              "    }\n",
              "    progress:not([value]), progress:not([value])::-webkit-progress-bar {\n",
              "        background: repeating-linear-gradient(45deg, #7e7e7e, #7e7e7e 10px, #5c5c5c 10px, #5c5c5c 20px);\n",
              "    }\n",
              "    .progress-bar-interrupted, .progress-bar-interrupted::-webkit-progress-bar {\n",
              "        background: #F44336;\n",
              "    }\n",
              "</style>\n"
            ]
          },
          "metadata": {}
        },
        {
          "output_type": "display_data",
          "data": {
            "text/plain": [
              "<IPython.core.display.HTML object>"
            ],
            "text/html": [
              "<table border=\"1\" class=\"dataframe\">\n",
              "  <thead>\n",
              "    <tr style=\"text-align: left;\">\n",
              "      <th>epoch</th>\n",
              "      <th>train_loss</th>\n",
              "      <th>valid_loss</th>\n",
              "      <th>accuracy</th>\n",
              "      <th>error_rate</th>\n",
              "      <th>time</th>\n",
              "    </tr>\n",
              "  </thead>\n",
              "  <tbody>\n",
              "    <tr>\n",
              "      <td>0</td>\n",
              "      <td>0.972461</td>\n",
              "      <td>0.805696</td>\n",
              "      <td>0.714000</td>\n",
              "      <td>0.286000</td>\n",
              "      <td>01:04</td>\n",
              "    </tr>\n",
              "    <tr>\n",
              "      <td>1</td>\n",
              "      <td>0.893869</td>\n",
              "      <td>0.727208</td>\n",
              "      <td>0.741500</td>\n",
              "      <td>0.258500</td>\n",
              "      <td>01:07</td>\n",
              "    </tr>\n",
              "    <tr>\n",
              "      <td>2</td>\n",
              "      <td>0.802876</td>\n",
              "      <td>0.683696</td>\n",
              "      <td>0.760600</td>\n",
              "      <td>0.239400</td>\n",
              "      <td>01:07</td>\n",
              "    </tr>\n",
              "    <tr>\n",
              "      <td>3</td>\n",
              "      <td>0.735399</td>\n",
              "      <td>0.643175</td>\n",
              "      <td>0.770100</td>\n",
              "      <td>0.229900</td>\n",
              "      <td>01:01</td>\n",
              "    </tr>\n",
              "    <tr>\n",
              "      <td>4</td>\n",
              "      <td>0.653814</td>\n",
              "      <td>0.611275</td>\n",
              "      <td>0.781500</td>\n",
              "      <td>0.218500</td>\n",
              "      <td>01:02</td>\n",
              "    </tr>\n",
              "    <tr>\n",
              "      <td>5</td>\n",
              "      <td>0.614006</td>\n",
              "      <td>0.588301</td>\n",
              "      <td>0.794000</td>\n",
              "      <td>0.206000</td>\n",
              "      <td>01:03</td>\n",
              "    </tr>\n",
              "    <tr>\n",
              "      <td>6</td>\n",
              "      <td>0.546973</td>\n",
              "      <td>0.560392</td>\n",
              "      <td>0.803100</td>\n",
              "      <td>0.196900</td>\n",
              "      <td>01:03</td>\n",
              "    </tr>\n",
              "    <tr>\n",
              "      <td>7</td>\n",
              "      <td>0.520514</td>\n",
              "      <td>0.548012</td>\n",
              "      <td>0.806000</td>\n",
              "      <td>0.194000</td>\n",
              "      <td>01:00</td>\n",
              "    </tr>\n",
              "    <tr>\n",
              "      <td>8</td>\n",
              "      <td>0.488031</td>\n",
              "      <td>0.545835</td>\n",
              "      <td>0.807700</td>\n",
              "      <td>0.192300</td>\n",
              "      <td>00:59</td>\n",
              "    </tr>\n",
              "    <tr>\n",
              "      <td>9</td>\n",
              "      <td>0.519344</td>\n",
              "      <td>0.543788</td>\n",
              "      <td>0.809000</td>\n",
              "      <td>0.191000</td>\n",
              "      <td>01:01</td>\n",
              "    </tr>\n",
              "  </tbody>\n",
              "</table>"
            ]
          },
          "metadata": {}
        }
      ]
    },
    {
      "cell_type": "markdown",
      "source": [
        "Veiem que hem aconseguit un 80% de precisió re-entrenant la xarxa amb el nostre dataset, que no està molt allunyat dels resultats que va obtenir aquesta xarxa en el seu moment."
      ],
      "metadata": {
        "id": "QDGVRPkz_CXv"
      }
    },
    {
      "cell_type": "markdown",
      "source": [
        "<br>"
      ],
      "metadata": {
        "id": "pEuM6ETTAR4t"
      }
    },
    {
      "cell_type": "markdown",
      "source": [
        "### **2. Squeezenet**"
      ],
      "metadata": {
        "id": "D_xBzfHx6rx8"
      }
    },
    {
      "cell_type": "markdown",
      "source": [
        "[En paraules dels seus creadors](https://arxiv.org/abs/1602.07360), Squeezenet fóu un intent de construir una xarxa capaç d'aconseguir la mateixa precisió que Alexnet, però fent servir 50 vegades menys paràmetres i menys de 0.5MB de memòria per guardar el model. La que provarem avui serà la versió 1.1, que està lleugerament més refinada que la versió original.\n"
      ],
      "metadata": {
        "id": "NjEnrPs-618d"
      }
    },
    {
      "cell_type": "markdown",
      "source": [
        "\n",
        "\n",
        "<table style=\"text-align: center;\">\n",
        "<tr>\n",
        "  <td>\n",
        "   <img src=\"https://www.researchgate.net/publication/335357358/figure/fig4/AS:795145175842817@1566588791117/The-architecture-of-SqueezeNet-11.ppm\"/>\n",
        "  </td>\n",
        "</tr>\n",
        "<tr>\n",
        "  <th>Topologia de la xarxa Squeezenet 1.1. Imatge extreta de <a href = https://www.researchgate.net/figure/The-architecture-of-SqueezeNet-11_fig4_335357358>WANGHU & RUOXUE (2019), \"Real-Time Driver-Drowsiness Detection System Using Facial Features\"</a>.</th>\n",
        "</tr>\n",
        "</table>"
      ],
      "metadata": {
        "id": "8VJTf6cWA-yG"
      }
    },
    {
      "cell_type": "markdown",
      "source": [
        "Anem a comprovar si aquesta arquitectura realment està a l'altura de tals afirmacions..."
      ],
      "metadata": {
        "id": "tStobpziDgXp"
      }
    },
    {
      "cell_type": "markdown",
      "source": [
        "Per a aquesta xarxa ens serveix el mateix DataLoader que hem fet servir per a la xarxa Alexnet, així que podem passar a crear directament la xarxa:"
      ],
      "metadata": {
        "id": "A_Gj-eLwHJ3f"
      }
    },
    {
      "cell_type": "code",
      "source": [
        "squish_learner = vision_learner(dls, squeezenet1_1, metrics=[accuracy, error_rate]).to_fp16()"
      ],
      "metadata": {
        "id": "yYQLuI4B6tlQ",
        "colab": {
          "base_uri": "https://localhost:8080/"
        },
        "outputId": "c9675923-c86f-461a-e4fd-3eed5e69d436"
      },
      "execution_count": 7,
      "outputs": [
        {
          "output_type": "stream",
          "name": "stderr",
          "text": [
            "/usr/local/lib/python3.9/dist-packages/torchvision/models/_utils.py:208: UserWarning: The parameter 'pretrained' is deprecated since 0.13 and may be removed in the future, please use 'weights' instead.\n",
            "  warnings.warn(\n",
            "/usr/local/lib/python3.9/dist-packages/torchvision/models/_utils.py:223: UserWarning: Arguments other than a weight enum or `None` for 'weights' are deprecated since 0.13 and may be removed in the future. The current behavior is equivalent to passing `weights=SqueezeNet1_1_Weights.IMAGENET1K_V1`. You can also use `weights=SqueezeNet1_1_Weights.DEFAULT` to get the most up-to-date weights.\n",
            "  warnings.warn(msg)\n",
            "Downloading: \"https://download.pytorch.org/models/squeezenet1_1-b8a52dc0.pth\" to /root/.cache/torch/hub/checkpoints/squeezenet1_1-b8a52dc0.pth\n",
            "100%|██████████| 4.73M/4.73M [00:00<00:00, 27.1MB/s]\n"
          ]
        }
      ]
    },
    {
      "cell_type": "markdown",
      "source": [
        "Una vegada creada la xarxa, procedim a entrenar-la. Idealment, hauriem d'obtenir uns resultats similars als que ens ha donat Alexnet, però amb molt menys temps d'entrenament."
      ],
      "metadata": {
        "id": "ozP5-BsW_usp"
      }
    },
    {
      "cell_type": "code",
      "source": [
        "squish_learner.fine_tune(10, freeze_epochs=2)"
      ],
      "metadata": {
        "colab": {
          "base_uri": "https://localhost:8080/",
          "height": 457
        },
        "id": "0dnZGqtdEi_7",
        "outputId": "1d254533-0122-491e-ed84-a1014173d335"
      },
      "execution_count": 8,
      "outputs": [
        {
          "output_type": "display_data",
          "data": {
            "text/plain": [
              "<IPython.core.display.HTML object>"
            ],
            "text/html": [
              "\n",
              "<style>\n",
              "    /* Turns off some styling */\n",
              "    progress {\n",
              "        /* gets rid of default border in Firefox and Opera. */\n",
              "        border: none;\n",
              "        /* Needs to be in here for Safari polyfill so background images work as expected. */\n",
              "        background-size: auto;\n",
              "    }\n",
              "    progress:not([value]), progress:not([value])::-webkit-progress-bar {\n",
              "        background: repeating-linear-gradient(45deg, #7e7e7e, #7e7e7e 10px, #5c5c5c 10px, #5c5c5c 20px);\n",
              "    }\n",
              "    .progress-bar-interrupted, .progress-bar-interrupted::-webkit-progress-bar {\n",
              "        background: #F44336;\n",
              "    }\n",
              "</style>\n"
            ]
          },
          "metadata": {}
        },
        {
          "output_type": "display_data",
          "data": {
            "text/plain": [
              "<IPython.core.display.HTML object>"
            ],
            "text/html": [
              "<table border=\"1\" class=\"dataframe\">\n",
              "  <thead>\n",
              "    <tr style=\"text-align: left;\">\n",
              "      <th>epoch</th>\n",
              "      <th>train_loss</th>\n",
              "      <th>valid_loss</th>\n",
              "      <th>accuracy</th>\n",
              "      <th>error_rate</th>\n",
              "      <th>time</th>\n",
              "    </tr>\n",
              "  </thead>\n",
              "  <tbody>\n",
              "    <tr>\n",
              "      <td>0</td>\n",
              "      <td>1.425406</td>\n",
              "      <td>1.087537</td>\n",
              "      <td>0.623100</td>\n",
              "      <td>0.376900</td>\n",
              "      <td>01:06</td>\n",
              "    </tr>\n",
              "    <tr>\n",
              "      <td>1</td>\n",
              "      <td>1.195729</td>\n",
              "      <td>1.015506</td>\n",
              "      <td>0.631800</td>\n",
              "      <td>0.368200</td>\n",
              "      <td>01:01</td>\n",
              "    </tr>\n",
              "  </tbody>\n",
              "</table>"
            ]
          },
          "metadata": {}
        },
        {
          "output_type": "display_data",
          "data": {
            "text/plain": [
              "<IPython.core.display.HTML object>"
            ],
            "text/html": [
              "\n",
              "<style>\n",
              "    /* Turns off some styling */\n",
              "    progress {\n",
              "        /* gets rid of default border in Firefox and Opera. */\n",
              "        border: none;\n",
              "        /* Needs to be in here for Safari polyfill so background images work as expected. */\n",
              "        background-size: auto;\n",
              "    }\n",
              "    progress:not([value]), progress:not([value])::-webkit-progress-bar {\n",
              "        background: repeating-linear-gradient(45deg, #7e7e7e, #7e7e7e 10px, #5c5c5c 10px, #5c5c5c 20px);\n",
              "    }\n",
              "    .progress-bar-interrupted, .progress-bar-interrupted::-webkit-progress-bar {\n",
              "        background: #F44336;\n",
              "    }\n",
              "</style>\n"
            ]
          },
          "metadata": {}
        },
        {
          "output_type": "display_data",
          "data": {
            "text/plain": [
              "<IPython.core.display.HTML object>"
            ],
            "text/html": [
              "<table border=\"1\" class=\"dataframe\">\n",
              "  <thead>\n",
              "    <tr style=\"text-align: left;\">\n",
              "      <th>epoch</th>\n",
              "      <th>train_loss</th>\n",
              "      <th>valid_loss</th>\n",
              "      <th>accuracy</th>\n",
              "      <th>error_rate</th>\n",
              "      <th>time</th>\n",
              "    </tr>\n",
              "  </thead>\n",
              "  <tbody>\n",
              "    <tr>\n",
              "      <td>0</td>\n",
              "      <td>0.913902</td>\n",
              "      <td>0.757032</td>\n",
              "      <td>0.736300</td>\n",
              "      <td>0.263700</td>\n",
              "      <td>01:12</td>\n",
              "    </tr>\n",
              "    <tr>\n",
              "      <td>1</td>\n",
              "      <td>0.823293</td>\n",
              "      <td>0.679351</td>\n",
              "      <td>0.759600</td>\n",
              "      <td>0.240400</td>\n",
              "      <td>01:09</td>\n",
              "    </tr>\n",
              "    <tr>\n",
              "      <td>2</td>\n",
              "      <td>0.795195</td>\n",
              "      <td>0.679042</td>\n",
              "      <td>0.759200</td>\n",
              "      <td>0.240800</td>\n",
              "      <td>01:10</td>\n",
              "    </tr>\n",
              "    <tr>\n",
              "      <td>3</td>\n",
              "      <td>0.702959</td>\n",
              "      <td>0.590671</td>\n",
              "      <td>0.790800</td>\n",
              "      <td>0.209200</td>\n",
              "      <td>01:15</td>\n",
              "    </tr>\n",
              "    <tr>\n",
              "      <td>4</td>\n",
              "      <td>0.659900</td>\n",
              "      <td>0.580694</td>\n",
              "      <td>0.795100</td>\n",
              "      <td>0.204900</td>\n",
              "      <td>01:10</td>\n",
              "    </tr>\n",
              "    <tr>\n",
              "      <td>5</td>\n",
              "      <td>0.620579</td>\n",
              "      <td>0.545290</td>\n",
              "      <td>0.806100</td>\n",
              "      <td>0.193900</td>\n",
              "      <td>01:15</td>\n",
              "    </tr>\n",
              "    <tr>\n",
              "      <td>6</td>\n",
              "      <td>0.596448</td>\n",
              "      <td>0.510637</td>\n",
              "      <td>0.820400</td>\n",
              "      <td>0.179600</td>\n",
              "      <td>01:09</td>\n",
              "    </tr>\n",
              "    <tr>\n",
              "      <td>7</td>\n",
              "      <td>0.531956</td>\n",
              "      <td>0.499747</td>\n",
              "      <td>0.820700</td>\n",
              "      <td>0.179300</td>\n",
              "      <td>01:13</td>\n",
              "    </tr>\n",
              "    <tr>\n",
              "      <td>8</td>\n",
              "      <td>0.526310</td>\n",
              "      <td>0.489126</td>\n",
              "      <td>0.825800</td>\n",
              "      <td>0.174200</td>\n",
              "      <td>01:09</td>\n",
              "    </tr>\n",
              "    <tr>\n",
              "      <td>9</td>\n",
              "      <td>0.509471</td>\n",
              "      <td>0.487938</td>\n",
              "      <td>0.827000</td>\n",
              "      <td>0.173000</td>\n",
              "      <td>01:10</td>\n",
              "    </tr>\n",
              "  </tbody>\n",
              "</table>"
            ]
          },
          "metadata": {}
        }
      ]
    },
    {
      "cell_type": "markdown",
      "source": [
        "Curiosament, hem acabat obtenint prop d'un 83% de precisió, que és una mica més que l'exemple d'Alexnet."
      ],
      "metadata": {
        "id": "IASl8NNVDVi8"
      }
    },
    {
      "cell_type": "markdown",
      "source": [
        "<br>"
      ],
      "metadata": {
        "id": "KIICFx-qFhqX"
      }
    },
    {
      "cell_type": "markdown",
      "source": [
        "### **3. VGG16 i VGG19**"
      ],
      "metadata": {
        "id": "m0BXn0APFmYa"
      }
    },
    {
      "cell_type": "markdown",
      "source": [
        "La VGG-16 fóu l'Arquitectura guanyadora de l'*ILSVRC* de l'any 2014. Va suposar un salt qualitatiu envers les arquitectures líders del moment com Alexnet, aconseguint un impresionant 92.7% de precisió. Com el seu nom indica, es tracta d'una arquitectura de 16 capes convolucionals:"
      ],
      "metadata": {
        "id": "10xGkvWQGeGj"
      }
    },
    {
      "cell_type": "markdown",
      "source": [
        "<table style=\"text-align: center;\">\n",
        "<tr>\n",
        "  <td>\n",
        "   <img src=\"https://miro.medium.com/v2/resize:fit:720/0*0M8CobXpNwFDCmOQ\"/>\n",
        "  </td>\n",
        "</tr>\n",
        "<tr>\n",
        "  <th>Topologia de la xarxa VGG-16. Imatge extreta de <a https://medium.com/@mygreatlearning/everything-you-need-to-know-about-vgg16-7315defb5918>Medium</a>.</th>\n",
        "</tr>\n",
        "</table>"
      ],
      "metadata": {
        "id": "74vhd9S0HLJ3"
      }
    },
    {
      "cell_type": "code",
      "source": [
        "vgg16_learner = vision_learner(dls, vgg16_bn, metrics=[accuracy, error_rate]).to_fp16()"
      ],
      "metadata": {
        "colab": {
          "base_uri": "https://localhost:8080/"
        },
        "id": "jG7Vl45IFl0P",
        "outputId": "cc813735-4687-4d69-8e59-1b30ae7b3de9"
      },
      "execution_count": 15,
      "outputs": [
        {
          "output_type": "stream",
          "name": "stderr",
          "text": [
            "/usr/local/lib/python3.9/dist-packages/torchvision/models/_utils.py:223: UserWarning: Arguments other than a weight enum or `None` for 'weights' are deprecated since 0.13 and may be removed in the future. The current behavior is equivalent to passing `weights=VGG16_BN_Weights.IMAGENET1K_V1`. You can also use `weights=VGG16_BN_Weights.DEFAULT` to get the most up-to-date weights.\n",
            "  warnings.warn(msg)\n",
            "Downloading: \"https://download.pytorch.org/models/vgg16_bn-6c64b313.pth\" to /root/.cache/torch/hub/checkpoints/vgg16_bn-6c64b313.pth\n",
            "100%|██████████| 528M/528M [00:07<00:00, 78.3MB/s]\n"
          ]
        }
      ]
    },
    {
      "cell_type": "code",
      "source": [
        "vgg16_learner.fine_tune(10, freeze_epochs=2)"
      ],
      "metadata": {
        "colab": {
          "base_uri": "https://localhost:8080/",
          "height": 457
        },
        "id": "n5Pi-IFBOSA1",
        "outputId": "f540c34d-e56f-49fc-a5b9-04451f93bd5c"
      },
      "execution_count": 16,
      "outputs": [
        {
          "output_type": "display_data",
          "data": {
            "text/plain": [
              "<IPython.core.display.HTML object>"
            ],
            "text/html": [
              "\n",
              "<style>\n",
              "    /* Turns off some styling */\n",
              "    progress {\n",
              "        /* gets rid of default border in Firefox and Opera. */\n",
              "        border: none;\n",
              "        /* Needs to be in here for Safari polyfill so background images work as expected. */\n",
              "        background-size: auto;\n",
              "    }\n",
              "    progress:not([value]), progress:not([value])::-webkit-progress-bar {\n",
              "        background: repeating-linear-gradient(45deg, #7e7e7e, #7e7e7e 10px, #5c5c5c 10px, #5c5c5c 20px);\n",
              "    }\n",
              "    .progress-bar-interrupted, .progress-bar-interrupted::-webkit-progress-bar {\n",
              "        background: #F44336;\n",
              "    }\n",
              "</style>\n"
            ]
          },
          "metadata": {}
        },
        {
          "output_type": "display_data",
          "data": {
            "text/plain": [
              "<IPython.core.display.HTML object>"
            ],
            "text/html": [
              "<table border=\"1\" class=\"dataframe\">\n",
              "  <thead>\n",
              "    <tr style=\"text-align: left;\">\n",
              "      <th>epoch</th>\n",
              "      <th>train_loss</th>\n",
              "      <th>valid_loss</th>\n",
              "      <th>accuracy</th>\n",
              "      <th>error_rate</th>\n",
              "      <th>time</th>\n",
              "    </tr>\n",
              "  </thead>\n",
              "  <tbody>\n",
              "    <tr>\n",
              "      <td>0</td>\n",
              "      <td>1.441903</td>\n",
              "      <td>1.010889</td>\n",
              "      <td>0.650700</td>\n",
              "      <td>0.349300</td>\n",
              "      <td>01:12</td>\n",
              "    </tr>\n",
              "    <tr>\n",
              "      <td>1</td>\n",
              "      <td>0.970461</td>\n",
              "      <td>0.752161</td>\n",
              "      <td>0.737600</td>\n",
              "      <td>0.262400</td>\n",
              "      <td>01:09</td>\n",
              "    </tr>\n",
              "  </tbody>\n",
              "</table>"
            ]
          },
          "metadata": {}
        },
        {
          "output_type": "display_data",
          "data": {
            "text/plain": [
              "<IPython.core.display.HTML object>"
            ],
            "text/html": [
              "\n",
              "<style>\n",
              "    /* Turns off some styling */\n",
              "    progress {\n",
              "        /* gets rid of default border in Firefox and Opera. */\n",
              "        border: none;\n",
              "        /* Needs to be in here for Safari polyfill so background images work as expected. */\n",
              "        background-size: auto;\n",
              "    }\n",
              "    progress:not([value]), progress:not([value])::-webkit-progress-bar {\n",
              "        background: repeating-linear-gradient(45deg, #7e7e7e, #7e7e7e 10px, #5c5c5c 10px, #5c5c5c 20px);\n",
              "    }\n",
              "    .progress-bar-interrupted, .progress-bar-interrupted::-webkit-progress-bar {\n",
              "        background: #F44336;\n",
              "    }\n",
              "</style>\n"
            ]
          },
          "metadata": {}
        },
        {
          "output_type": "display_data",
          "data": {
            "text/plain": [
              "<IPython.core.display.HTML object>"
            ],
            "text/html": [
              "<table border=\"1\" class=\"dataframe\">\n",
              "  <thead>\n",
              "    <tr style=\"text-align: left;\">\n",
              "      <th>epoch</th>\n",
              "      <th>train_loss</th>\n",
              "      <th>valid_loss</th>\n",
              "      <th>accuracy</th>\n",
              "      <th>error_rate</th>\n",
              "      <th>time</th>\n",
              "    </tr>\n",
              "  </thead>\n",
              "  <tbody>\n",
              "    <tr>\n",
              "      <td>0</td>\n",
              "      <td>0.598352</td>\n",
              "      <td>0.452743</td>\n",
              "      <td>0.845700</td>\n",
              "      <td>0.154300</td>\n",
              "      <td>01:21</td>\n",
              "    </tr>\n",
              "    <tr>\n",
              "      <td>1</td>\n",
              "      <td>0.466979</td>\n",
              "      <td>0.368632</td>\n",
              "      <td>0.873600</td>\n",
              "      <td>0.126400</td>\n",
              "      <td>01:17</td>\n",
              "    </tr>\n",
              "    <tr>\n",
              "      <td>2</td>\n",
              "      <td>0.408214</td>\n",
              "      <td>0.325256</td>\n",
              "      <td>0.887200</td>\n",
              "      <td>0.112800</td>\n",
              "      <td>01:13</td>\n",
              "    </tr>\n",
              "    <tr>\n",
              "      <td>3</td>\n",
              "      <td>0.324227</td>\n",
              "      <td>0.314983</td>\n",
              "      <td>0.893900</td>\n",
              "      <td>0.106100</td>\n",
              "      <td>01:17</td>\n",
              "    </tr>\n",
              "    <tr>\n",
              "      <td>4</td>\n",
              "      <td>0.249876</td>\n",
              "      <td>0.304633</td>\n",
              "      <td>0.896600</td>\n",
              "      <td>0.103400</td>\n",
              "      <td>01:16</td>\n",
              "    </tr>\n",
              "    <tr>\n",
              "      <td>5</td>\n",
              "      <td>0.187534</td>\n",
              "      <td>0.298017</td>\n",
              "      <td>0.905300</td>\n",
              "      <td>0.094700</td>\n",
              "      <td>01:14</td>\n",
              "    </tr>\n",
              "    <tr>\n",
              "      <td>6</td>\n",
              "      <td>0.135919</td>\n",
              "      <td>0.302177</td>\n",
              "      <td>0.905200</td>\n",
              "      <td>0.094800</td>\n",
              "      <td>01:17</td>\n",
              "    </tr>\n",
              "    <tr>\n",
              "      <td>7</td>\n",
              "      <td>0.104642</td>\n",
              "      <td>0.286803</td>\n",
              "      <td>0.912100</td>\n",
              "      <td>0.087900</td>\n",
              "      <td>01:16</td>\n",
              "    </tr>\n",
              "    <tr>\n",
              "      <td>8</td>\n",
              "      <td>0.076573</td>\n",
              "      <td>0.281018</td>\n",
              "      <td>0.914100</td>\n",
              "      <td>0.085900</td>\n",
              "      <td>01:14</td>\n",
              "    </tr>\n",
              "    <tr>\n",
              "      <td>9</td>\n",
              "      <td>0.060850</td>\n",
              "      <td>0.278888</td>\n",
              "      <td>0.914600</td>\n",
              "      <td>0.085400</td>\n",
              "      <td>01:15</td>\n",
              "    </tr>\n",
              "  </tbody>\n",
              "</table>"
            ]
          },
          "metadata": {}
        }
      ]
    },
    {
      "cell_type": "markdown",
      "source": [
        "Hem aconseguit un 91.4% de precisió, que està molt a prop del màxim esperable per a aquest tipus de xarxa. <br>\n",
        "\n",
        "Provem ara la VGG-19. Essencialment és el mateix tipus de xarxa, pero apilant 19 capes convolucionals en comptes de 16."
      ],
      "metadata": {
        "id": "rtioMkO7Rz36"
      }
    },
    {
      "cell_type": "code",
      "source": [
        "vgg19_learner = vision_learner(dls, vgg19_bn, metrics=[accuracy, error_rate]).to_fp16()"
      ],
      "metadata": {
        "colab": {
          "base_uri": "https://localhost:8080/"
        },
        "id": "ekCzwynnOTS7",
        "outputId": "ba3edbf8-4014-4009-b22a-1789e0591403"
      },
      "execution_count": 17,
      "outputs": [
        {
          "output_type": "stream",
          "name": "stderr",
          "text": [
            "/usr/local/lib/python3.9/dist-packages/torchvision/models/_utils.py:223: UserWarning: Arguments other than a weight enum or `None` for 'weights' are deprecated since 0.13 and may be removed in the future. The current behavior is equivalent to passing `weights=VGG19_BN_Weights.IMAGENET1K_V1`. You can also use `weights=VGG19_BN_Weights.DEFAULT` to get the most up-to-date weights.\n",
            "  warnings.warn(msg)\n",
            "Downloading: \"https://download.pytorch.org/models/vgg19_bn-c79401a0.pth\" to /root/.cache/torch/hub/checkpoints/vgg19_bn-c79401a0.pth\n",
            "100%|██████████| 548M/548M [00:15<00:00, 37.4MB/s]\n"
          ]
        }
      ]
    },
    {
      "cell_type": "code",
      "source": [
        "vgg19_learner.fine_tune(10, freeze_epochs=2)"
      ],
      "metadata": {
        "colab": {
          "base_uri": "https://localhost:8080/",
          "height": 457
        },
        "id": "FmAkZSNMSMXS",
        "outputId": "ca91562a-1777-4d76-9f0d-f95a1cee0fe7"
      },
      "execution_count": 18,
      "outputs": [
        {
          "output_type": "display_data",
          "data": {
            "text/plain": [
              "<IPython.core.display.HTML object>"
            ],
            "text/html": [
              "\n",
              "<style>\n",
              "    /* Turns off some styling */\n",
              "    progress {\n",
              "        /* gets rid of default border in Firefox and Opera. */\n",
              "        border: none;\n",
              "        /* Needs to be in here for Safari polyfill so background images work as expected. */\n",
              "        background-size: auto;\n",
              "    }\n",
              "    progress:not([value]), progress:not([value])::-webkit-progress-bar {\n",
              "        background: repeating-linear-gradient(45deg, #7e7e7e, #7e7e7e 10px, #5c5c5c 10px, #5c5c5c 20px);\n",
              "    }\n",
              "    .progress-bar-interrupted, .progress-bar-interrupted::-webkit-progress-bar {\n",
              "        background: #F44336;\n",
              "    }\n",
              "</style>\n"
            ]
          },
          "metadata": {}
        },
        {
          "output_type": "display_data",
          "data": {
            "text/plain": [
              "<IPython.core.display.HTML object>"
            ],
            "text/html": [
              "<table border=\"1\" class=\"dataframe\">\n",
              "  <thead>\n",
              "    <tr style=\"text-align: left;\">\n",
              "      <th>epoch</th>\n",
              "      <th>train_loss</th>\n",
              "      <th>valid_loss</th>\n",
              "      <th>accuracy</th>\n",
              "      <th>error_rate</th>\n",
              "      <th>time</th>\n",
              "    </tr>\n",
              "  </thead>\n",
              "  <tbody>\n",
              "    <tr>\n",
              "      <td>0</td>\n",
              "      <td>1.518708</td>\n",
              "      <td>1.066034</td>\n",
              "      <td>0.639900</td>\n",
              "      <td>0.360100</td>\n",
              "      <td>01:12</td>\n",
              "    </tr>\n",
              "    <tr>\n",
              "      <td>1</td>\n",
              "      <td>1.006780</td>\n",
              "      <td>0.786184</td>\n",
              "      <td>0.722700</td>\n",
              "      <td>0.277300</td>\n",
              "      <td>01:16</td>\n",
              "    </tr>\n",
              "  </tbody>\n",
              "</table>"
            ]
          },
          "metadata": {}
        },
        {
          "output_type": "display_data",
          "data": {
            "text/plain": [
              "<IPython.core.display.HTML object>"
            ],
            "text/html": [
              "\n",
              "<style>\n",
              "    /* Turns off some styling */\n",
              "    progress {\n",
              "        /* gets rid of default border in Firefox and Opera. */\n",
              "        border: none;\n",
              "        /* Needs to be in here for Safari polyfill so background images work as expected. */\n",
              "        background-size: auto;\n",
              "    }\n",
              "    progress:not([value]), progress:not([value])::-webkit-progress-bar {\n",
              "        background: repeating-linear-gradient(45deg, #7e7e7e, #7e7e7e 10px, #5c5c5c 10px, #5c5c5c 20px);\n",
              "    }\n",
              "    .progress-bar-interrupted, .progress-bar-interrupted::-webkit-progress-bar {\n",
              "        background: #F44336;\n",
              "    }\n",
              "</style>\n"
            ]
          },
          "metadata": {}
        },
        {
          "output_type": "display_data",
          "data": {
            "text/plain": [
              "<IPython.core.display.HTML object>"
            ],
            "text/html": [
              "<table border=\"1\" class=\"dataframe\">\n",
              "  <thead>\n",
              "    <tr style=\"text-align: left;\">\n",
              "      <th>epoch</th>\n",
              "      <th>train_loss</th>\n",
              "      <th>valid_loss</th>\n",
              "      <th>accuracy</th>\n",
              "      <th>error_rate</th>\n",
              "      <th>time</th>\n",
              "    </tr>\n",
              "  </thead>\n",
              "  <tbody>\n",
              "    <tr>\n",
              "      <td>0</td>\n",
              "      <td>0.593567</td>\n",
              "      <td>0.435894</td>\n",
              "      <td>0.847700</td>\n",
              "      <td>0.152300</td>\n",
              "      <td>01:23</td>\n",
              "    </tr>\n",
              "    <tr>\n",
              "      <td>1</td>\n",
              "      <td>0.452955</td>\n",
              "      <td>0.354488</td>\n",
              "      <td>0.876000</td>\n",
              "      <td>0.124000</td>\n",
              "      <td>01:24</td>\n",
              "    </tr>\n",
              "    <tr>\n",
              "      <td>2</td>\n",
              "      <td>0.395166</td>\n",
              "      <td>0.334185</td>\n",
              "      <td>0.885000</td>\n",
              "      <td>0.115000</td>\n",
              "      <td>01:22</td>\n",
              "    </tr>\n",
              "    <tr>\n",
              "      <td>3</td>\n",
              "      <td>0.324196</td>\n",
              "      <td>0.296501</td>\n",
              "      <td>0.898900</td>\n",
              "      <td>0.101100</td>\n",
              "      <td>01:21</td>\n",
              "    </tr>\n",
              "    <tr>\n",
              "      <td>4</td>\n",
              "      <td>0.250396</td>\n",
              "      <td>0.295714</td>\n",
              "      <td>0.900100</td>\n",
              "      <td>0.099900</td>\n",
              "      <td>01:20</td>\n",
              "    </tr>\n",
              "    <tr>\n",
              "      <td>5</td>\n",
              "      <td>0.190576</td>\n",
              "      <td>0.288921</td>\n",
              "      <td>0.904600</td>\n",
              "      <td>0.095400</td>\n",
              "      <td>01:20</td>\n",
              "    </tr>\n",
              "    <tr>\n",
              "      <td>6</td>\n",
              "      <td>0.139383</td>\n",
              "      <td>0.266869</td>\n",
              "      <td>0.915800</td>\n",
              "      <td>0.084200</td>\n",
              "      <td>01:20</td>\n",
              "    </tr>\n",
              "    <tr>\n",
              "      <td>7</td>\n",
              "      <td>0.087548</td>\n",
              "      <td>0.270891</td>\n",
              "      <td>0.919200</td>\n",
              "      <td>0.080800</td>\n",
              "      <td>01:20</td>\n",
              "    </tr>\n",
              "    <tr>\n",
              "      <td>8</td>\n",
              "      <td>0.075082</td>\n",
              "      <td>0.268692</td>\n",
              "      <td>0.922000</td>\n",
              "      <td>0.078000</td>\n",
              "      <td>01:20</td>\n",
              "    </tr>\n",
              "    <tr>\n",
              "      <td>9</td>\n",
              "      <td>0.055379</td>\n",
              "      <td>0.272057</td>\n",
              "      <td>0.921000</td>\n",
              "      <td>0.079000</td>\n",
              "      <td>01:19</td>\n",
              "    </tr>\n",
              "  </tbody>\n",
              "</table>"
            ]
          },
          "metadata": {}
        }
      ]
    },
    {
      "cell_type": "markdown",
      "source": [
        "Aquesta vegada hem obtingut 92.1%, millorant lleugerament el resultat de la VGG-16."
      ],
      "metadata": {
        "id": "QmoDLsuyV-ut"
      }
    }
  ]
}