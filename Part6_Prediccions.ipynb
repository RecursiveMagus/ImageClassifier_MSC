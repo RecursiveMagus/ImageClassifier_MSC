{
 "cells": [
  {
   "cell_type": "markdown",
   "metadata": {},
   "source": [
    "# Part ?? - **Predicció sobre el conjunt de test**"
   ]
  },
  {
   "cell_type": "markdown",
   "metadata": {},
   "source": [
    "En aquest notebook farem la predicció sobre les imatges del conjunt de test."
   ]
  },
  {
   "cell_type": "markdown",
   "metadata": {},
   "source": [
    "### **1. Agregació de les imatges d'entrenament in validació**"
   ]
  },
  {
   "cell_type": "code",
   "execution_count": 24,
   "metadata": {},
   "outputs": [],
   "source": [
    "### PYCHARM ###\n",
    "\n",
    "import fastai\n",
    "import torch\n",
    "from fastai.vision.all import *\n",
    "from fastai.callback.fp16 import *\n",
    "import os\n",
    "import shutil\n",
    "import random\n",
    "import pandas as pd\n",
    "\n",
    "from IPython.display import clear_output, DisplayHandle\n",
    "def update_patch(self, obj):\n",
    "    clear_output(wait=True)\n",
    "    self.display(obj)\n",
    "DisplayHandle.update = update_patch\n",
    "\n",
    "\n",
    "path = \"dataset_CIFAR10\""
   ]
  },
  {
   "cell_type": "code",
   "execution_count": 3,
   "metadata": {},
   "outputs": [
    {
     "data": {
      "text/plain": [
       "'\\n! [ -e /content ] && pip install -Uqq fastbook\\nimport fastbook\\nfrom fastbook import *\\nfastbook.setup_book()\\nfrom fastai.callback.fp16 import *\\nimport os\\nimport shutil\\nimport random\\n\\n!unzip /content/gdrive/MyDrive/dataset_CIFAR10.zip\\npath = \"/content/\"\\n'"
      ]
     },
     "execution_count": 3,
     "metadata": {},
     "output_type": "execute_result"
    }
   ],
   "source": [
    "### COLAB ###\n",
    "\"\"\"\n",
    "! [ -e /content ] && pip install -Uqq fastbook\n",
    "import fastbook\n",
    "from fastbook import *\n",
    "fastbook.setup_book()\n",
    "from fastai.callback.fp16 import *\n",
    "import os\n",
    "import shutil\n",
    "import random\n",
    "import pandas as pd\n",
    "\n",
    "!unzip /content/gdrive/MyDrive/dataset_CIFAR10.zip\n",
    "path = \"/content/\"\n",
    "\"\"\""
   ]
  },
  {
   "cell_type": "code",
   "execution_count": 4,
   "metadata": {},
   "outputs": [
    {
     "data": {
      "text/plain": [
       "True"
      ]
     },
     "execution_count": 4,
     "metadata": {},
     "output_type": "execute_result"
    }
   ],
   "source": [
    "#check if cuda is available\n",
    "torch.cuda.is_available()"
   ]
  },
  {
   "cell_type": "markdown",
   "metadata": {},
   "source": [
    "Per tal de fer l'entrenament final sobre més imatges, combinarem els conjunts de train i valid (el 90% de les imatges de validació les farem servir per entrenar)."
   ]
  },
  {
   "cell_type": "code",
   "execution_count": 5,
   "metadata": {},
   "outputs": [],
   "source": [
    "if os.path.exists(path + \"/train_test\"):\n",
    "    shutil.rmtree(path + \"/train_test\")\n",
    "\n",
    "if os.path.exists(path + \"/valid_test\"):\n",
    "    shutil.rmtree(path + \"/valid_test\")\n",
    "\n",
    "#check if foler train_test exists in path folder\n",
    "if not os.path.exists(path + \"/train_test\"):\n",
    "\n",
    "    os.mkdir(path + \"/valid_test\")\n",
    "\n",
    "    #copy all folders recursively from train to train_test\n",
    "    shutil.copytree(path + \"/train\", path + \"/train_test\")\n",
    "\n",
    "    #for each folder inside valid folder, print name\n",
    "    for folder in os.listdir(path + \"/validation\"):\n",
    "\n",
    "        #create folder inside valid_test with same name\n",
    "        os.mkdir(path + \"/valid_test/\" + folder)\n",
    "\n",
    "        # Get list of image files in folder\n",
    "        files = [file for file in os.listdir(path+\"/validation/\"+folder) if file.endswith(\".jpg\")]\n",
    "\n",
    "        # Calculate number of files to move to validation set\n",
    "        num_valid = int(0.1 * len(files))\n",
    "\n",
    "        # Randomly select files to move to validation set\n",
    "        valid_files = random.sample(files, num_valid)\n",
    "\n",
    "        # Move validation files to validation subfolder\n",
    "        for file in valid_files:\n",
    "            src = os.path.join(path, 'validation', folder, file)\n",
    "            dst = os.path.join(path, 'valid_test', folder, file)\n",
    "            shutil.copy(src, dst)\n",
    "\n",
    "        # Move remaining files to train subfolder\n",
    "        for file in files:\n",
    "            if file not in valid_files:\n",
    "                src = os.path.join(path, 'validation', folder, file)\n",
    "                dst = os.path.join(path, 'train_test', folder, 'valid_'+file)\n",
    "                shutil.copy(src, dst)"
   ]
  },
  {
   "cell_type": "markdown",
   "metadata": {},
   "source": [
    "### **2. Carregar imatges d'entrenament**"
   ]
  },
  {
   "cell_type": "code",
   "execution_count": 6,
   "metadata": {},
   "outputs": [
    {
     "data": {
      "text/plain": [
       "True"
      ]
     },
     "execution_count": 6,
     "metadata": {},
     "output_type": "execute_result"
    }
   ],
   "source": [
    "#check if cuda is available\n",
    "torch.cuda.is_available()"
   ]
  },
  {
   "cell_type": "code",
   "execution_count": 7,
   "metadata": {},
   "outputs": [],
   "source": [
    "dls = ImageDataLoaders.from_folder(\n",
    "    path=path,\n",
    "    train='train_test',\n",
    "    valid='valid_test',\n",
    "    seed=42,\n",
    "    bs = 64,\n",
    "    batch_tfms=aug_transforms(size=224, min_scale=0.75),\n",
    ")"
   ]
  },
  {
   "cell_type": "code",
   "execution_count": 8,
   "metadata": {},
   "outputs": [
    {
     "data": {
      "text/html": [
       "<table border=\"1\" class=\"dataframe\">\n",
       "  <thead>\n",
       "    <tr style=\"text-align: left;\">\n",
       "      <th>epoch</th>\n",
       "      <th>train_loss</th>\n",
       "      <th>valid_loss</th>\n",
       "      <th>accuracy</th>\n",
       "      <th>error_rate</th>\n",
       "      <th>time</th>\n",
       "    </tr>\n",
       "  </thead>\n",
       "  <tbody>\n",
       "    <tr>\n",
       "      <td>0</td>\n",
       "      <td>0.405097</td>\n",
       "      <td>0.331032</td>\n",
       "      <td>0.886000</td>\n",
       "      <td>0.114000</td>\n",
       "      <td>05:37</td>\n",
       "    </tr>\n",
       "    <tr>\n",
       "      <td>1</td>\n",
       "      <td>0.418379</td>\n",
       "      <td>0.302548</td>\n",
       "      <td>0.896000</td>\n",
       "      <td>0.104000</td>\n",
       "      <td>05:32</td>\n",
       "    </tr>\n",
       "    <tr>\n",
       "      <td>2</td>\n",
       "      <td>0.326044</td>\n",
       "      <td>0.266034</td>\n",
       "      <td>0.905000</td>\n",
       "      <td>0.095000</td>\n",
       "      <td>05:28</td>\n",
       "    </tr>\n",
       "    <tr>\n",
       "      <td>3</td>\n",
       "      <td>0.210088</td>\n",
       "      <td>0.214493</td>\n",
       "      <td>0.930000</td>\n",
       "      <td>0.070000</td>\n",
       "      <td>05:28</td>\n",
       "    </tr>\n",
       "    <tr>\n",
       "      <td>4</td>\n",
       "      <td>0.115753</td>\n",
       "      <td>0.177356</td>\n",
       "      <td>0.943000</td>\n",
       "      <td>0.057000</td>\n",
       "      <td>05:27</td>\n",
       "    </tr>\n",
       "    <tr>\n",
       "      <td>5</td>\n",
       "      <td>0.082675</td>\n",
       "      <td>0.168894</td>\n",
       "      <td>0.944000</td>\n",
       "      <td>0.056000</td>\n",
       "      <td>05:28</td>\n",
       "    </tr>\n",
       "  </tbody>\n",
       "</table>"
      ],
      "text/plain": [
       "<IPython.core.display.HTML object>"
      ]
     },
     "metadata": {},
     "output_type": "display_data"
    }
   ],
   "source": [
    "learn152 = vision_learner(dls, resnet152, metrics=[accuracy, error_rate]).to_fp16()\n",
    "learn152.fine_tune(6, freeze_epochs=3)"
   ]
  },
  {
   "cell_type": "markdown",
   "metadata": {},
   "source": [
    "### **3. Carregar imatges de test**"
   ]
  },
  {
   "cell_type": "markdown",
   "metadata": {},
   "source": [
    "Definim el directori on tenim les imatges de test guardades, i cridem ``get_image_files(path_test).sorted()`` (així ens assegurem que les imatges ja estan ordenades):"
   ]
  },
  {
   "cell_type": "code",
   "execution_count": 44,
   "metadata": {},
   "outputs": [],
   "source": [
    "path_test = \"test_unlabelled\"\n",
    "test_images = get_image_files(path_test).sorted()"
   ]
  },
  {
   "cell_type": "markdown",
   "metadata": {},
   "source": [
    "Passem les imatges al ``dls`` (perquè apliqui les transformacions corresponents) i en fem les prediccions:"
   ]
  },
  {
   "cell_type": "code",
   "execution_count": 11,
   "metadata": {},
   "outputs": [
    {
     "data": {
      "text/html": [],
      "text/plain": [
       "<IPython.core.display.HTML object>"
      ]
     },
     "metadata": {},
     "output_type": "display_data"
    }
   ],
   "source": [
    "test_dl = dls.test_dl(test_images)\n",
    "preds, _, decoded = learn152.get_preds(dl=test_dl, with_decoded=True)"
   ]
  },
  {
   "cell_type": "markdown",
   "metadata": {},
   "source": [
    "Mostrem el vocabulari:"
   ]
  },
  {
   "cell_type": "code",
   "execution_count": 15,
   "metadata": {},
   "outputs": [
    {
     "data": {
      "text/plain": [
       "['airplane', 'automobile', 'bird', 'cat', 'deer', 'dog', 'frog', 'horse', 'ship', 'truck']"
      ]
     },
     "execution_count": 15,
     "metadata": {},
     "output_type": "execute_result"
    }
   ],
   "source": [
    "dls.vocab"
   ]
  },
  {
   "cell_type": "markdown",
   "metadata": {},
   "source": [
    "La variable ``decoded`` conté la predicció en forma numèrica, per tant la passem a format string perquè sigui més fàcil avaluar els resultats:"
   ]
  },
  {
   "cell_type": "code",
   "execution_count": 23,
   "metadata": {},
   "outputs": [],
   "source": [
    "decoded_str = [dls.vocab[i] for i in decoded]"
   ]
  },
  {
   "cell_type": "markdown",
   "metadata": {},
   "source": [
    "Mostrem els resultats i comprovem que les prediccions estiguin ben fetes:"
   ]
  },
  {
   "cell_type": "code",
   "execution_count": 26,
   "metadata": {},
   "outputs": [
    {
     "data": {
      "text/html": [
       "<div>\n",
       "<style scoped>\n",
       "    .dataframe tbody tr th:only-of-type {\n",
       "        vertical-align: middle;\n",
       "    }\n",
       "\n",
       "    .dataframe tbody tr th {\n",
       "        vertical-align: top;\n",
       "    }\n",
       "\n",
       "    .dataframe thead th {\n",
       "        text-align: right;\n",
       "    }\n",
       "</style>\n",
       "<table border=\"1\" class=\"dataframe\">\n",
       "  <thead>\n",
       "    <tr style=\"text-align: right;\">\n",
       "      <th></th>\n",
       "      <th>prediction</th>\n",
       "    </tr>\n",
       "  </thead>\n",
       "  <tbody>\n",
       "    <tr>\n",
       "      <th>0</th>\n",
       "      <td>airplane</td>\n",
       "    </tr>\n",
       "    <tr>\n",
       "      <th>1</th>\n",
       "      <td>deer</td>\n",
       "    </tr>\n",
       "    <tr>\n",
       "      <th>2</th>\n",
       "      <td>cat</td>\n",
       "    </tr>\n",
       "    <tr>\n",
       "      <th>3</th>\n",
       "      <td>cat</td>\n",
       "    </tr>\n",
       "    <tr>\n",
       "      <th>4</th>\n",
       "      <td>automobile</td>\n",
       "    </tr>\n",
       "    <tr>\n",
       "      <th>...</th>\n",
       "      <td>...</td>\n",
       "    </tr>\n",
       "    <tr>\n",
       "      <th>9995</th>\n",
       "      <td>ship</td>\n",
       "    </tr>\n",
       "    <tr>\n",
       "      <th>9996</th>\n",
       "      <td>automobile</td>\n",
       "    </tr>\n",
       "    <tr>\n",
       "      <th>9997</th>\n",
       "      <td>automobile</td>\n",
       "    </tr>\n",
       "    <tr>\n",
       "      <th>9998</th>\n",
       "      <td>cat</td>\n",
       "    </tr>\n",
       "    <tr>\n",
       "      <th>9999</th>\n",
       "      <td>ship</td>\n",
       "    </tr>\n",
       "  </tbody>\n",
       "</table>\n",
       "<p>10000 rows × 1 columns</p>\n",
       "</div>"
      ],
      "text/plain": [
       "      prediction\n",
       "0       airplane\n",
       "1           deer\n",
       "2            cat\n",
       "3            cat\n",
       "4     automobile\n",
       "...          ...\n",
       "9995        ship\n",
       "9996  automobile\n",
       "9997  automobile\n",
       "9998         cat\n",
       "9999        ship\n",
       "\n",
       "[10000 rows x 1 columns]"
      ]
     },
     "execution_count": 26,
     "metadata": {},
     "output_type": "execute_result"
    }
   ],
   "source": [
    "df = pd.DataFrame (decoded_str, columns = ['prediction'])\n",
    "df"
   ]
  },
  {
   "cell_type": "code",
   "execution_count": 39,
   "metadata": {},
   "outputs": [
    {
     "data": {
      "image/png": "[encoded data removed]",
      "text/plain": [
       "<PIL.Image.Image image mode=RGB size=150x150>"
      ]
     },
     "execution_count": 39,
     "metadata": {},
     "output_type": "execute_result"
    }
   ],
   "source": [
    "img = Image.open(path_test+'/0000.jpg')\n",
    "img.resize((150, 150))"
   ]
  },
  {
   "cell_type": "code",
   "execution_count": 40,
   "metadata": {},
   "outputs": [
    {
     "data": {
      "image/png": "[encoded data removed]",
      "text/plain": [
       "<PIL.Image.Image image mode=RGB size=150x150>"
      ]
     },
     "execution_count": 40,
     "metadata": {},
     "output_type": "execute_result"
    }
   ],
   "source": [
    "img = Image.open(path_test+'/0004.jpg')\n",
    "img.resize((150, 150))"
   ]
  },
  {
   "cell_type": "code",
   "execution_count": 41,
   "metadata": {},
   "outputs": [
    {
     "data": {
      "image/png": "[encoded data removed]",
      "text/plain": [
       "<PIL.Image.Image image mode=RGB size=150x150>"
      ]
     },
     "execution_count": 41,
     "metadata": {},
     "output_type": "execute_result"
    }
   ],
   "source": [
    "img = Image.open(path_test+'/9998.jpg')\n",
    "img.resize((150, 150))"
   ]
  },
  {
   "cell_type": "markdown",
   "metadata": {},
   "source": [
    "I guardem els resultats en format CSV:"
   ]
  },
  {
   "cell_type": "code",
   "execution_count": 43,
   "metadata": {},
   "outputs": [],
   "source": [
    "df.to_csv('prediccions_test_IsaacdePalau_JoanSaló.csv')"
   ]
  }
 ],
 "metadata": {
  "kernelspec": {
   "display_name": "Python 3 (ipykernel)",
   "language": "python",
   "name": "python3"
  },
  "language_info": {
   "codemirror_mode": {
    "name": "ipython",
    "version": 3
   },
   "file_extension": ".py",
   "mimetype": "text/x-python",
   "name": "python",
   "nbconvert_exporter": "python",
   "pygments_lexer": "ipython3",
   "version": "3.10.9"
  }
 },
 "nbformat": 4,
 "nbformat_minor": 4
}
